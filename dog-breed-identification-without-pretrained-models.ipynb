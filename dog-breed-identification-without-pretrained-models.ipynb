{
 "cells": [
  {
   "cell_type": "code",
   "execution_count": 20,
   "metadata": {
    "_cell_guid": "b1076dfc-b9ad-4769-8c92-a6c4dae69d19",
    "_uuid": "8f2839f25d086af736a60e9eeb907d3b93b6e0e5",
    "execution": {
     "iopub.execute_input": "2021-06-24T14:43:15.505964Z",
     "iopub.status.busy": "2021-06-24T14:43:15.50532Z",
     "iopub.status.idle": "2021-06-24T14:43:45.048346Z",
     "shell.execute_reply": "2021-06-24T14:43:45.032834Z",
     "shell.execute_reply.started": "2021-06-24T14:43:15.505927Z"
    }
   },
   "outputs": [],
   "source": [
    "# ATTRIBUTION: Modified Code from Kautstubh Mishra\n",
    "\n",
    "# This Python 3 environment comes with many helpful analytics libraries installed\n",
    "# It is defined by the kaggle/python Docker image: https://github.com/kaggle/docker-python\n",
    "# For example, here's several helpful packages to load\n",
    "\n",
    "import numpy as np # linear algebra\n",
    "import pandas as pd # data processing, CSV file I/O (e.g. pd.read_csv)\n",
    "import matplotlib.pyplot as plt\n",
    "%matplotlib inline\n",
    "# Input data files are available in the read-only \"../input/\" directory\n",
    "# For example, running this (by clicking run or pressing Shift+Enter) will list all files under the input directory\n",
    "\n",
    "import os\n",
    "for dirname, _, filenames in os.walk('./Users/Ashraf Bade/Downloads/dog-breed-dataset'):\n",
    "    for filename in filenames:\n",
    "        print(os.path.join(dirname, filename))\n",
    "\n",
    "# You can write up to 20GB to the current directory (/kaggle/working/) that gets preserved as output when you create a version using \"Save & Run All\" \n",
    "# You can also write temporary files to /kaggle/temp/, but they won't be saved outside of the current session"
   ]
  },
  {
   "cell_type": "code",
   "execution_count": 21,
   "metadata": {
    "execution": {
     "iopub.execute_input": "2021-06-24T14:43:45.061815Z",
     "iopub.status.busy": "2021-06-24T14:43:45.061468Z",
     "iopub.status.idle": "2021-06-24T14:43:45.1233Z",
     "shell.execute_reply": "2021-06-24T14:43:45.12225Z",
     "shell.execute_reply.started": "2021-06-24T14:43:45.061786Z"
    }
   },
   "outputs": [
    {
     "data": {
      "text/html": [
       "<div>\n",
       "<style scoped>\n",
       "    .dataframe tbody tr th:only-of-type {\n",
       "        vertical-align: middle;\n",
       "    }\n",
       "\n",
       "    .dataframe tbody tr th {\n",
       "        vertical-align: top;\n",
       "    }\n",
       "\n",
       "    .dataframe thead th {\n",
       "        text-align: right;\n",
       "    }\n",
       "</style>\n",
       "<table border=\"1\" class=\"dataframe\">\n",
       "  <thead>\n",
       "    <tr style=\"text-align: right;\">\n",
       "      <th></th>\n",
       "      <th>000bec180eb18c7604dcecc8fe0dba07</th>\n",
       "      <th>boston_bull</th>\n",
       "    </tr>\n",
       "  </thead>\n",
       "  <tbody>\n",
       "    <tr>\n",
       "      <th>0</th>\n",
       "      <td>001513dfcb2ffafc82cccf4d8bbaba97</td>\n",
       "      <td>dingo</td>\n",
       "    </tr>\n",
       "    <tr>\n",
       "      <th>1</th>\n",
       "      <td>001cdf01b096e06d78e9e5112d419397</td>\n",
       "      <td>pekinese</td>\n",
       "    </tr>\n",
       "    <tr>\n",
       "      <th>2</th>\n",
       "      <td>00214f311d5d2247d5dfe4fe24b2303d</td>\n",
       "      <td>bluetick</td>\n",
       "    </tr>\n",
       "    <tr>\n",
       "      <th>3</th>\n",
       "      <td>0021f9ceb3235effd7fcde7f7538ed62</td>\n",
       "      <td>golden_retriever</td>\n",
       "    </tr>\n",
       "    <tr>\n",
       "      <th>4</th>\n",
       "      <td>002211c81b498ef88e1b40b9abf84e1d</td>\n",
       "      <td>bedlington_terrier</td>\n",
       "    </tr>\n",
       "  </tbody>\n",
       "</table>\n",
       "</div>"
      ],
      "text/plain": [
       "   000bec180eb18c7604dcecc8fe0dba07         boston_bull\n",
       "0  001513dfcb2ffafc82cccf4d8bbaba97               dingo\n",
       "1  001cdf01b096e06d78e9e5112d419397            pekinese\n",
       "2  00214f311d5d2247d5dfe4fe24b2303d            bluetick\n",
       "3  0021f9ceb3235effd7fcde7f7538ed62    golden_retriever\n",
       "4  002211c81b498ef88e1b40b9abf84e1d  bedlington_terrier"
      ]
     },
     "execution_count": 21,
     "metadata": {},
     "output_type": "execute_result"
    }
   ],
   "source": [
    "df_labels = pd.read_csv('../Downloads/dog-breed-dataset/labels.csv')\n",
    "df_labels.head()"
   ]
  },
  {
   "cell_type": "code",
   "execution_count": 22,
   "metadata": {
    "execution": {
     "iopub.execute_input": "2021-06-24T14:43:45.125414Z",
     "iopub.status.busy": "2021-06-24T14:43:45.125126Z",
     "iopub.status.idle": "2021-06-24T14:43:45.131394Z",
     "shell.execute_reply": "2021-06-24T14:43:45.130337Z",
     "shell.execute_reply.started": "2021-06-24T14:43:45.125386Z"
    }
   },
   "outputs": [
    {
     "data": {
      "text/plain": [
       "(10221, 2)"
      ]
     },
     "execution_count": 22,
     "metadata": {},
     "output_type": "execute_result"
    }
   ],
   "source": [
    "df_labels.shape"
   ]
  },
  {
   "cell_type": "code",
   "execution_count": 34,
   "metadata": {
    "execution": {
     "iopub.execute_input": "2021-06-24T14:43:45.133345Z",
     "iopub.status.busy": "2021-06-24T14:43:45.133051Z",
     "iopub.status.idle": "2021-06-24T14:43:45.173992Z",
     "shell.execute_reply": "2021-06-24T14:43:45.172955Z",
     "shell.execute_reply.started": "2021-06-24T14:43:45.133319Z"
    }
   },
   "outputs": [
    {
     "ename": "KeyError",
     "evalue": "'id'",
     "output_type": "error",
     "traceback": [
      "\u001B[1;31m---------------------------------------------------------------------------\u001B[0m",
      "\u001B[1;31mKeyError\u001B[0m                                  Traceback (most recent call last)",
      "\u001B[1;32m~\\anaconda3\\lib\\site-packages\\pandas\\core\\indexes\\base.py\u001B[0m in \u001B[0;36mget_loc\u001B[1;34m(self, key, method, tolerance)\u001B[0m\n\u001B[0;32m   2894\u001B[0m             \u001B[1;32mtry\u001B[0m\u001B[1;33m:\u001B[0m\u001B[1;33m\u001B[0m\u001B[1;33m\u001B[0m\u001B[0m\n\u001B[1;32m-> 2895\u001B[1;33m                 \u001B[1;32mreturn\u001B[0m \u001B[0mself\u001B[0m\u001B[1;33m.\u001B[0m\u001B[0m_engine\u001B[0m\u001B[1;33m.\u001B[0m\u001B[0mget_loc\u001B[0m\u001B[1;33m(\u001B[0m\u001B[0mcasted_key\u001B[0m\u001B[1;33m)\u001B[0m\u001B[1;33m\u001B[0m\u001B[1;33m\u001B[0m\u001B[0m\n\u001B[0m\u001B[0;32m   2896\u001B[0m             \u001B[1;32mexcept\u001B[0m \u001B[0mKeyError\u001B[0m \u001B[1;32mas\u001B[0m \u001B[0merr\u001B[0m\u001B[1;33m:\u001B[0m\u001B[1;33m\u001B[0m\u001B[1;33m\u001B[0m\u001B[0m\n",
      "\u001B[1;32mpandas\\_libs\\index.pyx\u001B[0m in \u001B[0;36mpandas._libs.index.IndexEngine.get_loc\u001B[1;34m()\u001B[0m\n",
      "\u001B[1;32mpandas\\_libs\\index.pyx\u001B[0m in \u001B[0;36mpandas._libs.index.IndexEngine.get_loc\u001B[1;34m()\u001B[0m\n",
      "\u001B[1;32mpandas\\_libs\\hashtable_class_helper.pxi\u001B[0m in \u001B[0;36mpandas._libs.hashtable.PyObjectHashTable.get_item\u001B[1;34m()\u001B[0m\n",
      "\u001B[1;32mpandas\\_libs\\hashtable_class_helper.pxi\u001B[0m in \u001B[0;36mpandas._libs.hashtable.PyObjectHashTable.get_item\u001B[1;34m()\u001B[0m\n",
      "\u001B[1;31mKeyError\u001B[0m: 'id'",
      "\nThe above exception was the direct cause of the following exception:\n",
      "\u001B[1;31mKeyError\u001B[0m                                  Traceback (most recent call last)",
      "\u001B[1;32m<ipython-input-34-dc4d0790bf68>\u001B[0m in \u001B[0;36m<module>\u001B[1;34m\u001B[0m\n\u001B[0;32m      1\u001B[0m \u001B[0mtrain_file_location\u001B[0m \u001B[1;33m=\u001B[0m \u001B[1;34m'../Downloads/dog-breed-dataset/train/'\u001B[0m\u001B[1;33m\u001B[0m\u001B[1;33m\u001B[0m\u001B[0m\n\u001B[1;32m----> 2\u001B[1;33m \u001B[0mtrain_data\u001B[0m \u001B[1;33m=\u001B[0m \u001B[0mdf_labels\u001B[0m\u001B[1;33m.\u001B[0m\u001B[0massign\u001B[0m\u001B[1;33m(\u001B[0m\u001B[0mimg_path\u001B[0m \u001B[1;33m=\u001B[0m \u001B[1;32mlambda\u001B[0m \u001B[0mx\u001B[0m \u001B[1;33m:\u001B[0m \u001B[0mtrain_file_location\u001B[0m \u001B[1;33m+\u001B[0m \u001B[0mx\u001B[0m\u001B[1;33m[\u001B[0m\u001B[1;34m'id'\u001B[0m\u001B[1;33m]\u001B[0m \u001B[1;33m+\u001B[0m \u001B[1;34m'.jpg'\u001B[0m\u001B[1;33m)\u001B[0m\u001B[1;33m\u001B[0m\u001B[1;33m\u001B[0m\u001B[0m\n\u001B[0m\u001B[0;32m      3\u001B[0m \u001B[0mtrain_data\u001B[0m\u001B[1;33m.\u001B[0m\u001B[0mhead\u001B[0m\u001B[1;33m(\u001B[0m\u001B[1;33m)\u001B[0m\u001B[1;33m\u001B[0m\u001B[1;33m\u001B[0m\u001B[0m\n",
      "\u001B[1;32m~\\anaconda3\\lib\\site-packages\\pandas\\core\\frame.py\u001B[0m in \u001B[0;36massign\u001B[1;34m(self, **kwargs)\u001B[0m\n\u001B[0;32m   3693\u001B[0m \u001B[1;33m\u001B[0m\u001B[0m\n\u001B[0;32m   3694\u001B[0m         \u001B[1;32mfor\u001B[0m \u001B[0mk\u001B[0m\u001B[1;33m,\u001B[0m \u001B[0mv\u001B[0m \u001B[1;32min\u001B[0m \u001B[0mkwargs\u001B[0m\u001B[1;33m.\u001B[0m\u001B[0mitems\u001B[0m\u001B[1;33m(\u001B[0m\u001B[1;33m)\u001B[0m\u001B[1;33m:\u001B[0m\u001B[1;33m\u001B[0m\u001B[1;33m\u001B[0m\u001B[0m\n\u001B[1;32m-> 3695\u001B[1;33m             \u001B[0mdata\u001B[0m\u001B[1;33m[\u001B[0m\u001B[0mk\u001B[0m\u001B[1;33m]\u001B[0m \u001B[1;33m=\u001B[0m \u001B[0mcom\u001B[0m\u001B[1;33m.\u001B[0m\u001B[0mapply_if_callable\u001B[0m\u001B[1;33m(\u001B[0m\u001B[0mv\u001B[0m\u001B[1;33m,\u001B[0m \u001B[0mdata\u001B[0m\u001B[1;33m)\u001B[0m\u001B[1;33m\u001B[0m\u001B[1;33m\u001B[0m\u001B[0m\n\u001B[0m\u001B[0;32m   3696\u001B[0m         \u001B[1;32mreturn\u001B[0m \u001B[0mdata\u001B[0m\u001B[1;33m\u001B[0m\u001B[1;33m\u001B[0m\u001B[0m\n\u001B[0;32m   3697\u001B[0m \u001B[1;33m\u001B[0m\u001B[0m\n",
      "\u001B[1;32m~\\anaconda3\\lib\\site-packages\\pandas\\core\\common.py\u001B[0m in \u001B[0;36mapply_if_callable\u001B[1;34m(maybe_callable, obj, **kwargs)\u001B[0m\n\u001B[0;32m    339\u001B[0m     \"\"\"\n\u001B[0;32m    340\u001B[0m     \u001B[1;32mif\u001B[0m \u001B[0mcallable\u001B[0m\u001B[1;33m(\u001B[0m\u001B[0mmaybe_callable\u001B[0m\u001B[1;33m)\u001B[0m\u001B[1;33m:\u001B[0m\u001B[1;33m\u001B[0m\u001B[1;33m\u001B[0m\u001B[0m\n\u001B[1;32m--> 341\u001B[1;33m         \u001B[1;32mreturn\u001B[0m \u001B[0mmaybe_callable\u001B[0m\u001B[1;33m(\u001B[0m\u001B[0mobj\u001B[0m\u001B[1;33m,\u001B[0m \u001B[1;33m**\u001B[0m\u001B[0mkwargs\u001B[0m\u001B[1;33m)\u001B[0m\u001B[1;33m\u001B[0m\u001B[1;33m\u001B[0m\u001B[0m\n\u001B[0m\u001B[0;32m    342\u001B[0m \u001B[1;33m\u001B[0m\u001B[0m\n\u001B[0;32m    343\u001B[0m     \u001B[1;32mreturn\u001B[0m \u001B[0mmaybe_callable\u001B[0m\u001B[1;33m\u001B[0m\u001B[1;33m\u001B[0m\u001B[0m\n",
      "\u001B[1;32m<ipython-input-34-dc4d0790bf68>\u001B[0m in \u001B[0;36m<lambda>\u001B[1;34m(x)\u001B[0m\n\u001B[0;32m      1\u001B[0m \u001B[0mtrain_file_location\u001B[0m \u001B[1;33m=\u001B[0m \u001B[1;34m'../Downloads/dog-breed-dataset/train/'\u001B[0m\u001B[1;33m\u001B[0m\u001B[1;33m\u001B[0m\u001B[0m\n\u001B[1;32m----> 2\u001B[1;33m \u001B[0mtrain_data\u001B[0m \u001B[1;33m=\u001B[0m \u001B[0mdf_labels\u001B[0m\u001B[1;33m.\u001B[0m\u001B[0massign\u001B[0m\u001B[1;33m(\u001B[0m\u001B[0mimg_path\u001B[0m \u001B[1;33m=\u001B[0m \u001B[1;32mlambda\u001B[0m \u001B[0mx\u001B[0m \u001B[1;33m:\u001B[0m \u001B[0mtrain_file_location\u001B[0m \u001B[1;33m+\u001B[0m \u001B[0mx\u001B[0m\u001B[1;33m[\u001B[0m\u001B[1;34m'id'\u001B[0m\u001B[1;33m]\u001B[0m \u001B[1;33m+\u001B[0m \u001B[1;34m'.jpg'\u001B[0m\u001B[1;33m)\u001B[0m\u001B[1;33m\u001B[0m\u001B[1;33m\u001B[0m\u001B[0m\n\u001B[0m\u001B[0;32m      3\u001B[0m \u001B[0mtrain_data\u001B[0m\u001B[1;33m.\u001B[0m\u001B[0mhead\u001B[0m\u001B[1;33m(\u001B[0m\u001B[1;33m)\u001B[0m\u001B[1;33m\u001B[0m\u001B[1;33m\u001B[0m\u001B[0m\n",
      "\u001B[1;32m~\\anaconda3\\lib\\site-packages\\pandas\\core\\frame.py\u001B[0m in \u001B[0;36m__getitem__\u001B[1;34m(self, key)\u001B[0m\n\u001B[0;32m   2900\u001B[0m             \u001B[1;32mif\u001B[0m \u001B[0mself\u001B[0m\u001B[1;33m.\u001B[0m\u001B[0mcolumns\u001B[0m\u001B[1;33m.\u001B[0m\u001B[0mnlevels\u001B[0m \u001B[1;33m>\u001B[0m \u001B[1;36m1\u001B[0m\u001B[1;33m:\u001B[0m\u001B[1;33m\u001B[0m\u001B[1;33m\u001B[0m\u001B[0m\n\u001B[0;32m   2901\u001B[0m                 \u001B[1;32mreturn\u001B[0m \u001B[0mself\u001B[0m\u001B[1;33m.\u001B[0m\u001B[0m_getitem_multilevel\u001B[0m\u001B[1;33m(\u001B[0m\u001B[0mkey\u001B[0m\u001B[1;33m)\u001B[0m\u001B[1;33m\u001B[0m\u001B[1;33m\u001B[0m\u001B[0m\n\u001B[1;32m-> 2902\u001B[1;33m             \u001B[0mindexer\u001B[0m \u001B[1;33m=\u001B[0m \u001B[0mself\u001B[0m\u001B[1;33m.\u001B[0m\u001B[0mcolumns\u001B[0m\u001B[1;33m.\u001B[0m\u001B[0mget_loc\u001B[0m\u001B[1;33m(\u001B[0m\u001B[0mkey\u001B[0m\u001B[1;33m)\u001B[0m\u001B[1;33m\u001B[0m\u001B[1;33m\u001B[0m\u001B[0m\n\u001B[0m\u001B[0;32m   2903\u001B[0m             \u001B[1;32mif\u001B[0m \u001B[0mis_integer\u001B[0m\u001B[1;33m(\u001B[0m\u001B[0mindexer\u001B[0m\u001B[1;33m)\u001B[0m\u001B[1;33m:\u001B[0m\u001B[1;33m\u001B[0m\u001B[1;33m\u001B[0m\u001B[0m\n\u001B[0;32m   2904\u001B[0m                 \u001B[0mindexer\u001B[0m \u001B[1;33m=\u001B[0m \u001B[1;33m[\u001B[0m\u001B[0mindexer\u001B[0m\u001B[1;33m]\u001B[0m\u001B[1;33m\u001B[0m\u001B[1;33m\u001B[0m\u001B[0m\n",
      "\u001B[1;32m~\\anaconda3\\lib\\site-packages\\pandas\\core\\indexes\\base.py\u001B[0m in \u001B[0;36mget_loc\u001B[1;34m(self, key, method, tolerance)\u001B[0m\n\u001B[0;32m   2895\u001B[0m                 \u001B[1;32mreturn\u001B[0m \u001B[0mself\u001B[0m\u001B[1;33m.\u001B[0m\u001B[0m_engine\u001B[0m\u001B[1;33m.\u001B[0m\u001B[0mget_loc\u001B[0m\u001B[1;33m(\u001B[0m\u001B[0mcasted_key\u001B[0m\u001B[1;33m)\u001B[0m\u001B[1;33m\u001B[0m\u001B[1;33m\u001B[0m\u001B[0m\n\u001B[0;32m   2896\u001B[0m             \u001B[1;32mexcept\u001B[0m \u001B[0mKeyError\u001B[0m \u001B[1;32mas\u001B[0m \u001B[0merr\u001B[0m\u001B[1;33m:\u001B[0m\u001B[1;33m\u001B[0m\u001B[1;33m\u001B[0m\u001B[0m\n\u001B[1;32m-> 2897\u001B[1;33m                 \u001B[1;32mraise\u001B[0m \u001B[0mKeyError\u001B[0m\u001B[1;33m(\u001B[0m\u001B[0mkey\u001B[0m\u001B[1;33m)\u001B[0m \u001B[1;32mfrom\u001B[0m \u001B[0merr\u001B[0m\u001B[1;33m\u001B[0m\u001B[1;33m\u001B[0m\u001B[0m\n\u001B[0m\u001B[0;32m   2898\u001B[0m \u001B[1;33m\u001B[0m\u001B[0m\n\u001B[0;32m   2899\u001B[0m         \u001B[1;32mif\u001B[0m \u001B[0mtolerance\u001B[0m \u001B[1;32mis\u001B[0m \u001B[1;32mnot\u001B[0m \u001B[1;32mNone\u001B[0m\u001B[1;33m:\u001B[0m\u001B[1;33m\u001B[0m\u001B[1;33m\u001B[0m\u001B[0m\n",
      "\u001B[1;31mKeyError\u001B[0m: 'id'"
     ]
    }
   ],
   "source": [
    "train_file_location = '../Downloads/dog-breed-dataset/train/' \n",
    "train_data = df_labels.assign(img_path = lambda x : train_file_location + x['id'] + '.jpg')\n",
    "train_data.head()"
   ]
  },
  {
   "cell_type": "code",
   "execution_count": null,
   "metadata": {
    "execution": {
     "iopub.execute_input": "2021-06-24T14:43:45.175484Z",
     "iopub.status.busy": "2021-06-24T14:43:45.175198Z",
     "iopub.status.idle": "2021-06-24T14:43:45.183752Z",
     "shell.execute_reply": "2021-06-24T14:43:45.182656Z",
     "shell.execute_reply.started": "2021-06-24T14:43:45.175457Z"
    }
   },
   "outputs": [],
   "source": [
    "len(train_data['breed'].unique())"
   ]
  },
  {
   "cell_type": "code",
   "execution_count": null,
   "metadata": {
    "execution": {
     "iopub.execute_input": "2021-06-24T14:43:45.185543Z",
     "iopub.status.busy": "2021-06-24T14:43:45.185147Z",
     "iopub.status.idle": "2021-06-24T14:43:45.196295Z",
     "shell.execute_reply": "2021-06-24T14:43:45.195391Z",
     "shell.execute_reply.started": "2021-06-24T14:43:45.185514Z"
    }
   },
   "outputs": [],
   "source": [
    "train_data['img_path'][0]"
   ]
  },
  {
   "cell_type": "code",
   "execution_count": null,
   "metadata": {
    "execution": {
     "iopub.execute_input": "2021-06-24T14:43:45.197984Z",
     "iopub.status.busy": "2021-06-24T14:43:45.197492Z",
     "iopub.status.idle": "2021-06-24T14:43:45.209069Z",
     "shell.execute_reply": "2021-06-24T14:43:45.207936Z",
     "shell.execute_reply.started": "2021-06-24T14:43:45.197955Z"
    }
   },
   "outputs": [],
   "source": [
    "type(train_data['img_path'][0])"
   ]
  },
  {
   "cell_type": "code",
   "execution_count": null,
   "metadata": {
    "execution": {
     "iopub.execute_input": "2021-06-24T14:43:45.211936Z",
     "iopub.status.busy": "2021-06-24T14:43:45.211478Z",
     "iopub.status.idle": "2021-06-24T14:45:11.587895Z",
     "shell.execute_reply": "2021-06-24T14:45:11.586927Z",
     "shell.execute_reply.started": "2021-06-24T14:43:45.211877Z"
    }
   },
   "outputs": [],
   "source": [
    "from keras.preprocessing.image import load_img,img_to_array, ImageDataGenerator\n",
    "X = np.array([img_to_array(load_img(img,target_size = (128,128))) for img in train_data['img_path'].values.tolist()])\n",
    "X.shape"
   ]
  },
  {
   "cell_type": "code",
   "execution_count": null,
   "metadata": {
    "execution": {
     "iopub.execute_input": "2021-06-24T14:45:11.589799Z",
     "iopub.status.busy": "2021-06-24T14:45:11.589503Z",
     "iopub.status.idle": "2021-06-24T14:45:11.600446Z",
     "shell.execute_reply": "2021-06-24T14:45:11.599532Z",
     "shell.execute_reply.started": "2021-06-24T14:45:11.589772Z"
    }
   },
   "outputs": [],
   "source": [
    "Y = pd.get_dummies(train_data['breed'])\n",
    "Y.shape"
   ]
  },
  {
   "cell_type": "code",
   "execution_count": null,
   "metadata": {
    "execution": {
     "iopub.execute_input": "2021-06-24T14:45:11.601992Z",
     "iopub.status.busy": "2021-06-24T14:45:11.601713Z",
     "iopub.status.idle": "2021-06-24T14:45:13.134954Z",
     "shell.execute_reply": "2021-06-24T14:45:13.134185Z",
     "shell.execute_reply.started": "2021-06-24T14:45:11.601966Z"
    }
   },
   "outputs": [],
   "source": [
    "from sklearn.model_selection import train_test_split\n",
    "X_train,X_val,y_train,y_val  = train_test_split(X,Y,test_size = 0.25)"
   ]
  },
  {
   "cell_type": "code",
   "execution_count": null,
   "metadata": {
    "execution": {
     "iopub.execute_input": "2021-06-24T14:45:13.13638Z",
     "iopub.status.busy": "2021-06-24T14:45:13.135997Z",
     "iopub.status.idle": "2021-06-24T14:45:13.141442Z",
     "shell.execute_reply": "2021-06-24T14:45:13.140532Z",
     "shell.execute_reply.started": "2021-06-24T14:45:13.136353Z"
    }
   },
   "outputs": [],
   "source": [
    "print(X_train.shape,y_train.shape)\n",
    "print(X_val.shape,y_val.shape)"
   ]
  },
  {
   "cell_type": "code",
   "execution_count": 35,
   "metadata": {
    "execution": {
     "iopub.execute_input": "2021-06-24T14:45:13.142831Z",
     "iopub.status.busy": "2021-06-24T14:45:13.142442Z",
     "iopub.status.idle": "2021-06-24T14:45:19.414928Z",
     "shell.execute_reply": "2021-06-24T14:45:19.413652Z",
     "shell.execute_reply.started": "2021-06-24T14:45:13.142805Z"
    }
   },
   "outputs": [
    {
     "ename": "ModuleNotFoundError",
     "evalue": "No module named 'keras'",
     "output_type": "error",
     "traceback": [
      "\u001B[1;31m---------------------------------------------------------------------------\u001B[0m",
      "\u001B[1;31mModuleNotFoundError\u001B[0m                       Traceback (most recent call last)",
      "\u001B[1;32m<ipython-input-35-e949b06ed673>\u001B[0m in \u001B[0;36m<module>\u001B[1;34m\u001B[0m\n\u001B[1;32m----> 1\u001B[1;33m \u001B[1;32mfrom\u001B[0m \u001B[0mkeras\u001B[0m\u001B[1;33m.\u001B[0m\u001B[0mutils\u001B[0m \u001B[1;32mimport\u001B[0m \u001B[0mnormalize\u001B[0m\u001B[1;33m\u001B[0m\u001B[1;33m\u001B[0m\u001B[0m\n\u001B[0m\u001B[0;32m      2\u001B[0m \u001B[0mX_train\u001B[0m \u001B[1;33m=\u001B[0m \u001B[0mnormalize\u001B[0m\u001B[1;33m(\u001B[0m\u001B[0mX_train\u001B[0m\u001B[1;33m)\u001B[0m\u001B[1;33m\u001B[0m\u001B[1;33m\u001B[0m\u001B[0m\n\u001B[0;32m      3\u001B[0m \u001B[0mX_val\u001B[0m \u001B[1;33m=\u001B[0m \u001B[0mnormalize\u001B[0m\u001B[1;33m(\u001B[0m\u001B[0mX_val\u001B[0m\u001B[1;33m)\u001B[0m\u001B[1;33m\u001B[0m\u001B[1;33m\u001B[0m\u001B[0m\n",
      "\u001B[1;31mModuleNotFoundError\u001B[0m: No module named 'keras'"
     ]
    }
   ],
   "source": [
    "from keras.utils import normalize\n",
    "X_train = normalize(X_train)\n",
    "X_val = normalize(X_val)"
   ]
  },
  {
   "cell_type": "code",
   "execution_count": null,
   "metadata": {
    "execution": {
     "iopub.execute_input": "2021-06-24T14:45:19.416974Z",
     "iopub.status.busy": "2021-06-24T14:45:19.416556Z",
     "iopub.status.idle": "2021-06-24T14:45:20.37935Z",
     "shell.execute_reply": "2021-06-24T14:45:20.377826Z",
     "shell.execute_reply.started": "2021-06-24T14:45:19.416932Z"
    }
   },
   "outputs": [],
   "source": [
    "train_datagen = ImageDataGenerator(shear_range = 0.2,\n",
    "                                   zoom_range = 0.2,\n",
    "                                   horizontal_flip = True)\n",
    "train_datagen.fit(X_train)\n",
    "\n",
    "train_generator = train_datagen.flow(X_train,y_train,batch_size = 32)"
   ]
  },
  {
   "cell_type": "code",
   "execution_count": null,
   "metadata": {
    "execution": {
     "iopub.execute_input": "2021-06-24T14:45:20.383901Z",
     "iopub.status.busy": "2021-06-24T14:45:20.383525Z",
     "iopub.status.idle": "2021-06-24T14:45:20.39225Z",
     "shell.execute_reply": "2021-06-24T14:45:20.390825Z",
     "shell.execute_reply.started": "2021-06-24T14:45:20.383869Z"
    }
   },
   "outputs": [],
   "source": [
    "from keras.models import Sequential\n",
    "from keras.layers import Dense,Conv2D,MaxPool2D,Dropout,Flatten,Activation,BatchNormalization\n",
    "from keras.models import model_from_json\n",
    "from keras.models import load_model"
   ]
  },
  {
   "cell_type": "code",
   "execution_count": null,
   "metadata": {
    "execution": {
     "iopub.execute_input": "2021-06-24T14:45:20.394085Z",
     "iopub.status.busy": "2021-06-24T14:45:20.393774Z",
     "iopub.status.idle": "2021-06-24T14:45:20.409271Z",
     "shell.execute_reply": "2021-06-24T14:45:20.407405Z",
     "shell.execute_reply.started": "2021-06-24T14:45:20.394056Z"
    }
   },
   "outputs": [],
   "source": [
    "# model = Sequential()\n",
    "\n",
    "# model.add(Conv2D(32,(3,3),input_shape = (128,128,3)))\n",
    "# model.add(Activation('elu'))\n",
    "\n",
    "# model.add(Conv2D(64,(3,3)))\n",
    "# model.add(Activation('elu'))\n",
    "\n",
    "# model.add(MaxPool2D(pool_size = (2,2)))\n",
    "\n",
    "# model.add(Conv2D(64,(3,3)))\n",
    "# model.add(Activation('elu'))\n",
    "\n",
    "# model.add(Conv2D(32,(3,3)))\n",
    "# model.add(Activation('elu'))\n",
    "\n",
    "# model.add(Conv2D(16,(3,3)))\n",
    "# model.add(Activation('elu'))\n",
    "\n",
    "# model.add(MaxPool2D(pool_size = (2,2)))\n",
    "\n",
    "# model.add(Conv2D(8,(3,3)))\n",
    "# model.add(Activation('elu'))\n",
    "\n",
    "# model.add(Conv2D(8,(3,3)))\n",
    "# model.add(Activation('elu'))\n",
    "\n",
    "# model.add(Flatten())\n",
    "\n",
    "# model.add(Dense(128))\n",
    "# model.add(BatchNormalization())\n",
    "# model.add(Activation('elu'))\n",
    "\n",
    "# model.add(Dense(100))\n",
    "# model.add(Activation('elu'))\n",
    "\n",
    "# model.add(Dense(100))\n",
    "# model.add(Activation('elu'))\n",
    "\n",
    "# model.add(Dense(100))\n",
    "# model.add(Activation('elu'))\n",
    "\n",
    "# model.add(Dropout(0.25))\n",
    "\n",
    "# model.add(Dense(100))\n",
    "# model.add(Activation('elu'))\n",
    "\n",
    "# model.add(Dense(Y.shape[1]))\n",
    "# model.add(Activation('softmax'))\n",
    "\n",
    "# model.summary()"
   ]
  },
  {
   "cell_type": "code",
   "execution_count": null,
   "metadata": {
    "execution": {
     "iopub.execute_input": "2021-06-24T14:45:20.411782Z",
     "iopub.status.busy": "2021-06-24T14:45:20.411124Z",
     "iopub.status.idle": "2021-06-24T14:45:21.18945Z",
     "shell.execute_reply": "2021-06-24T14:45:21.188454Z",
     "shell.execute_reply.started": "2021-06-24T14:45:20.411733Z"
    }
   },
   "outputs": [],
   "source": [
    "model = Sequential()\n",
    "\n",
    "model.add(Conv2D(32,(3,3),input_shape = (128,128,3)))\n",
    "model.add(BatchNormalization())\n",
    "model.add(Activation('elu'))\n",
    "\n",
    "model.add(Conv2D(64,(3,3)))\n",
    "model.add(Activation('elu'))\n",
    "\n",
    "model.add(MaxPool2D(pool_size = (2,2)))\n",
    "\n",
    "model.add(Conv2D(64,(3,3)))\n",
    "model.add(BatchNormalization())\n",
    "model.add(Activation('elu'))\n",
    "\n",
    "model.add(Conv2D(32,(3,3)))\n",
    "model.add(BatchNormalization())\n",
    "model.add(Activation('elu'))\n",
    "\n",
    "model.add(Conv2D(32,(3,3)))\n",
    "model.add(BatchNormalization())\n",
    "model.add(Activation('elu'))\n",
    "\n",
    "model.add(MaxPool2D(pool_size = (2,2)))\n",
    "\n",
    "model.add(Conv2D(16,(3,3)))\n",
    "model.add(BatchNormalization())\n",
    "model.add(Activation('elu'))\n",
    "\n",
    "# model.add(MaxPool2D(pool_size = (2,2)))\n",
    "\n",
    "model.add(Conv2D(8,(3,3)))\n",
    "model.add(BatchNormalization())\n",
    "model.add(Activation('elu'))\n",
    "\n",
    "model.add(Conv2D(8,(3,3)))\n",
    "model.add(BatchNormalization())\n",
    "model.add(Activation('elu'))\n",
    "\n",
    "model.add(Flatten())\n",
    "\n",
    "model.add(Dense(128))\n",
    "model.add(BatchNormalization())\n",
    "model.add(Activation('elu'))\n",
    "\n",
    "model.add(Dense(100))\n",
    "model.add(BatchNormalization())\n",
    "model.add(Activation('elu'))\n",
    "\n",
    "model.add(Dense(100))\n",
    "model.add(BatchNormalization())\n",
    "model.add(Activation('elu'))\n",
    "\n",
    "model.add(Dense(100))\n",
    "model.add(Activation('elu'))\n",
    "\n",
    "model.add(Dropout(0.25))\n",
    "\n",
    "model.add(Dense(100))\n",
    "model.add(Activation('elu'))\n",
    "\n",
    "model.add(Dense(100))\n",
    "model.add(BatchNormalization())\n",
    "model.add(Activation('elu'))\n",
    "\n",
    "model.add(Dense(Y.shape[1]))\n",
    "model.add(Activation('softmax'))\n",
    "\n",
    "model.summary()"
   ]
  },
  {
   "cell_type": "code",
   "execution_count": null,
   "metadata": {
    "execution": {
     "iopub.execute_input": "2021-06-24T14:45:21.192096Z",
     "iopub.status.busy": "2021-06-24T14:45:21.191679Z",
     "iopub.status.idle": "2021-06-24T14:45:21.210089Z",
     "shell.execute_reply": "2021-06-24T14:45:21.209367Z",
     "shell.execute_reply.started": "2021-06-24T14:45:21.192053Z"
    }
   },
   "outputs": [],
   "source": [
    "model.compile(optimizer='adam',\n",
    "             loss='categorical_crossentropy',\n",
    "             metrics=['accuracy'])"
   ]
  },
  {
   "cell_type": "code",
   "execution_count": null,
   "metadata": {
    "execution": {
     "iopub.execute_input": "2021-06-24T14:45:21.21166Z",
     "iopub.status.busy": "2021-06-24T14:45:21.211247Z",
     "iopub.status.idle": "2021-06-24T22:18:00.731473Z",
     "shell.execute_reply": "2021-06-24T22:18:00.729923Z",
     "shell.execute_reply.started": "2021-06-24T14:45:21.211617Z"
    }
   },
   "outputs": [],
   "source": [
    "tr_history = model.fit(train_generator,\n",
    "         validation_data=(X_val,y_val),\n",
    "         epochs=50,\n",
    "         verbose=2)"
   ]
  },
  {
   "cell_type": "code",
   "execution_count": null,
   "metadata": {
    "execution": {
     "iopub.execute_input": "2021-06-24T22:18:00.736754Z",
     "iopub.status.busy": "2021-06-24T22:18:00.736014Z",
     "iopub.status.idle": "2021-06-24T22:18:00.989556Z",
     "shell.execute_reply": "2021-06-24T22:18:00.988366Z",
     "shell.execute_reply.started": "2021-06-24T22:18:00.736673Z"
    }
   },
   "outputs": [],
   "source": [
    "loss = tr_history.history['loss']\n",
    "val_loss = tr_history.history['val_loss']\n",
    "epochs = range(1, len(loss) + 1)\n",
    "plt.plot(epochs, loss, 'y', label='Training loss')\n",
    "plt.plot(epochs, val_loss, 'r', label='Validation loss')\n",
    "plt.title('Training and validation loss')\n",
    "plt.xlabel('Epochs')\n",
    "plt.ylabel('Loss')\n",
    "plt.legend()\n",
    "plt.show()"
   ]
  },
  {
   "cell_type": "code",
   "execution_count": null,
   "metadata": {
    "execution": {
     "iopub.execute_input": "2021-06-24T22:18:00.991529Z",
     "iopub.status.busy": "2021-06-24T22:18:00.991098Z",
     "iopub.status.idle": "2021-06-24T22:18:01.168387Z",
     "shell.execute_reply": "2021-06-24T22:18:01.167544Z",
     "shell.execute_reply.started": "2021-06-24T22:18:00.991487Z"
    }
   },
   "outputs": [],
   "source": [
    "acc = tr_history.history['accuracy']\n",
    "val_acc = tr_history.history['val_accuracy']\n",
    "epochs = range(1,len(acc)+1)\n",
    "plt.plot(epochs,acc,'y',label = 'Training_acc')\n",
    "plt.plot(epochs,val_acc,'r',label = 'Validation_acc')\n",
    "plt.title('Training and Validation accuracy')\n",
    "plt.xlabel('Epochs')\n",
    "plt.ylabel('Accuracy')\n",
    "plt.legend()\n",
    "plt.show()"
   ]
  },
  {
   "cell_type": "code",
   "execution_count": null,
   "metadata": {
    "execution": {
     "iopub.execute_input": "2021-06-24T22:18:01.170057Z",
     "iopub.status.busy": "2021-06-24T22:18:01.169611Z",
     "iopub.status.idle": "2021-06-24T22:18:01.739339Z",
     "shell.execute_reply": "2021-06-24T22:18:01.738367Z",
     "shell.execute_reply.started": "2021-06-24T22:18:01.170016Z"
    }
   },
   "outputs": [],
   "source": [
    "submission = pd.read_csv('../input/dog-breed-identification/sample_submission.csv')"
   ]
  },
  {
   "cell_type": "code",
   "execution_count": null,
   "metadata": {
    "execution": {
     "iopub.execute_input": "2021-06-24T22:18:01.741413Z",
     "iopub.status.busy": "2021-06-24T22:18:01.741003Z",
     "iopub.status.idle": "2021-06-24T22:18:01.775527Z",
     "shell.execute_reply": "2021-06-24T22:18:01.774558Z",
     "shell.execute_reply.started": "2021-06-24T22:18:01.741369Z"
    }
   },
   "outputs": [],
   "source": [
    "submission.head()"
   ]
  },
  {
   "cell_type": "code",
   "execution_count": null,
   "metadata": {
    "execution": {
     "iopub.execute_input": "2021-06-24T22:18:01.781334Z",
     "iopub.status.busy": "2021-06-24T22:18:01.780975Z",
     "iopub.status.idle": "2021-06-24T22:18:14.376326Z",
     "shell.execute_reply": "2021-06-24T22:18:14.375202Z",
     "shell.execute_reply.started": "2021-06-24T22:18:01.7813Z"
    }
   },
   "outputs": [],
   "source": [
    "test_datagen = ImageDataGenerator ( \n",
    "    rescale=1./255\n",
    ")\n",
    "\n",
    "test_set = test_datagen.flow_from_directory(\n",
    "    '/kaggle/input/dog-breed-identification',\n",
    "    target_size = (128,128),\n",
    "    batch_size = 128,\n",
    "    classes=['test']\n",
    ")"
   ]
  },
  {
   "cell_type": "code",
   "execution_count": null,
   "metadata": {
    "execution": {
     "iopub.execute_input": "2021-06-24T22:18:14.378863Z",
     "iopub.status.busy": "2021-06-24T22:18:14.378396Z",
     "iopub.status.idle": "2021-06-24T22:21:39.261063Z",
     "shell.execute_reply": "2021-06-24T22:21:39.260114Z",
     "shell.execute_reply.started": "2021-06-24T22:18:14.378812Z"
    }
   },
   "outputs": [],
   "source": [
    "y_pred = model.predict(test_set)"
   ]
  },
  {
   "cell_type": "code",
   "execution_count": null,
   "metadata": {
    "execution": {
     "iopub.execute_input": "2021-06-24T22:21:39.262874Z",
     "iopub.status.busy": "2021-06-24T22:21:39.262541Z",
     "iopub.status.idle": "2021-06-24T22:21:39.268692Z",
     "shell.execute_reply": "2021-06-24T22:21:39.267656Z",
     "shell.execute_reply.started": "2021-06-24T22:21:39.262845Z"
    }
   },
   "outputs": [],
   "source": [
    "y_pred.shape"
   ]
  },
  {
   "cell_type": "code",
   "execution_count": null,
   "metadata": {},
   "outputs": [],
   "source": [
    "import re\n",
    "file_list = test_set.filenames\n",
    "id_list = []\n",
    "for name in file_list:\n",
    "    m = re.sub('test/', '', name)\n",
    "    m = re.sub('.jpg', '', m)\n",
    "    id_list.append(m)"
   ]
  },
  {
   "cell_type": "code",
   "execution_count": null,
   "metadata": {
    "execution": {
     "iopub.execute_input": "2021-06-24T22:21:39.328003Z",
     "iopub.status.busy": "2021-06-24T22:21:39.3277Z",
     "iopub.status.idle": "2021-06-24T22:21:39.859604Z",
     "shell.execute_reply": "2021-06-24T22:21:39.85855Z",
     "shell.execute_reply.started": "2021-06-24T22:21:39.327974Z"
    }
   },
   "outputs": [],
   "source": [
    "submission['id'] = id_list\n",
    "submission.iloc[:,1:] =y_pred\n",
    "submission.head()"
   ]
  },
  {
   "cell_type": "code",
   "execution_count": null,
   "metadata": {
    "execution": {
     "iopub.execute_input": "2021-06-24T22:21:39.861083Z",
     "iopub.status.busy": "2021-06-24T22:21:39.86081Z",
     "iopub.status.idle": "2021-06-24T22:21:42.648745Z",
     "shell.execute_reply": "2021-06-24T22:21:42.647782Z",
     "shell.execute_reply.started": "2021-06-24T22:21:39.861058Z"
    }
   },
   "outputs": [],
   "source": [
    "final_df = submission.set_index('id')\n",
    "final_df.to_csv('Submission.csv')"
   ]
  },
  {
   "cell_type": "code",
   "execution_count": null,
   "metadata": {
    "execution": {
     "iopub.execute_input": "2021-06-25T17:17:00.701647Z",
     "iopub.status.busy": "2021-06-25T17:17:00.701308Z",
     "iopub.status.idle": "2021-06-25T17:17:00.759970Z",
     "shell.execute_reply": "2021-06-25T17:17:00.758625Z",
     "shell.execute_reply.started": "2021-06-25T17:17:00.701575Z"
    }
   },
   "outputs": [],
   "source": [
    "model_json = model.to_json()\n",
    "\n",
    "# serialize model to JSON\n",
    "model_json = model.to_json()\n",
    "with open(\"np-model.json\", \"w\") as json_file:\n",
    "    json_file.write(model_json)\n",
    "# serialize weights to HDF5\n",
    "model.save(\"np-model.h5\")"
   ]
  }
 ],
 "metadata": {
  "kernelspec": {
   "display_name": "Python 3",
   "language": "python",
   "name": "python3"
  },
  "language_info": {
   "codemirror_mode": {
    "name": "ipython",
    "version": 3
   },
   "file_extension": ".py",
   "mimetype": "text/x-python",
   "name": "python",
   "nbconvert_exporter": "python",
   "pygments_lexer": "ipython3",
   "version": "3.8.5"
  }
 },
 "nbformat": 4,
 "nbformat_minor": 4
}