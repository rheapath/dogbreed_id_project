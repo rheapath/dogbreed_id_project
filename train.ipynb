{
  "nbformat": 4,
  "nbformat_minor": 0,
  "metadata": {
    "colab": {
      "name": "train.ipynb",
      "provenance": [],
      "collapsed_sections": []
    },
    "kernelspec": {
      "display_name": "Python 3",
      "name": "python3"
    },
    "language_info": {
      "name": "python"
    }
  },
  "cells": [
    {
      "cell_type": "code",
      "metadata": {
        "id": "IlQwG1faaI7P"
      },
      "source": [
        "from google.colab import drive\n",
        "drive.mount('/content/gdrive')"
      ],
      "execution_count": null,
      "outputs": []
    },
    {
      "cell_type": "code",
      "metadata": {
        "id": "4Aa1ZEybJnu3"
      },
      "source": [
        "import pandas as pd\n",
        "import numpy as np\n",
        "import tensorflow as tf\n",
        "from tensorflow.keras.preprocessing.image import ImageDataGenerator\n",
        "\n",
        "BASEPATH = '/content/gdrive/My Drive/dog-breed-dataset/'"
      ],
      "execution_count": 14,
      "outputs": []
    },
    {
      "cell_type": "code",
      "metadata": {
        "id": "bzRsHlJjGhl6"
      },
      "source": [
        "EPOCHS = 10\n",
        "BATCH_SIZE = 32\n",
        "IMAGE_WIDTH = 256\n",
        "IMAGE_HEIGHT = 256\n",
        "NUM_CLASSES = 120"
      ],
      "execution_count": 15,
      "outputs": []
    },
    {
      "cell_type": "code",
      "metadata": {
        "id": "0Cnm4cL2MV0j"
      },
      "source": [
        "dogs_train = pd.read_csv(BASEPATH + 'labels.csv', names=['id', 'breed'])\n",
        "dogs_train['id'] = dogs_train['id'].apply(lambda x : x + '.jpg')\n",
        "\n",
        "generator = ImageDataGenerator(rescale=1./255.)\n",
        "\n",
        "train_generator = generator.flow_from_dataframe(\n",
        "    dataframe=dogs_train,\n",
        "    directory=BASEPATH + 'train/',\n",
        "    x_col='id',\n",
        "    y_col='breed',\n",
        "    batch_size=BATCH_SIZE,\n",
        "    subset='training',\n",
        "    color_mode='grayscale',\n",
        "    target=(IMAGE_WIDTH, IMAGE_HEIGHT),\n",
        "    interpolation='nearest',\n",
        "    save_to_dir=BASEPATH + 'generated/',\n",
        "    save_prefix='',\n",
        "    save_format='jpg')"
      ],
      "execution_count": null,
      "outputs": []
    },
    {
      "cell_type": "code",
      "metadata": {
        "id": "ZsCHKXdJJb37"
      },
      "source": [
        "model = tf.keras.Sequential([\n",
        "    tf.keras.layers.Conv2D(16, kernel_size=(3, 3), activation='relu'),\n",
        "    tf.keras.layers.MaxPooling2D(pool_size=(2, 2)),\n",
        "    tf.keras.layers.Conv2D(32, kernel_size=(3, 3), activation='relu'),\n",
        "    tf.keras.layers.MaxPooling2D(pool_size=(2, 2)),\n",
        "    tf.keras.layers.Flatten(),\n",
        "    tf.keras.layers.Dropout(0.5),\n",
        "    tf.keras.layers.Dense(NUM_CLASSES, activation='softmax')\n",
        "])\n",
        "\n",
        "model.compile(\n",
        "        optimizer='adam',\n",
        "        loss='categorical_crossentropy',\n",
        "        metrics=['accuracy'])\n",
        "\n",
        "model.fit(train_generator, epochs=EPOCHS)\n"
      ],
      "execution_count": null,
      "outputs": []
    }
  ]
}
